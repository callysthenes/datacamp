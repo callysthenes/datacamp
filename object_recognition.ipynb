{
 "cells": [
  {
   "cell_type": "markdown",
   "metadata": {},
   "source": [
    "# Bounding box representation\n",
    "- Rectangular box describing object's spatial location\n",
    "- Includes data annotations & model outputs\n",
    "- Ground truth bounding box: precise object location\n",
    "    - Can be used to enforce the speed in that same lane using bbox coordinates\n",
    "\n",
    "To process images in pytorch:\n",
    "- Convert pixels into tensors\n",
    "    - ToTensor()\n",
    "        float and scaled\n",
    "\n",
    "    - PILToTensor\n",
    "        8bit integer and unscaled\n",
    "            for bounding boxes"
   ]
  },
  {
   "cell_type": "code",
   "execution_count": null,
   "metadata": {},
   "outputs": [],
   "source": [
    "# Convert the bbox into tensors using torch.tensor().\n",
    "# Reshape bbox_tensor by adding a batch dimension using unsqueeze(0).\n",
    "# Create a transform to resize image to (224) and transform to an unscaled image tensor.\n",
    "# Apply transform to image.\n",
    "\n",
    "\n",
    "#  Convert bbox into tensors\n",
    "bbox_tensor = torch.tensor(bbox)\n",
    "\n",
    "# Add a new batch dimension\n",
    "bbox_tensor = bbox_tensor.unsqueeze(0)\n",
    "\n",
    "# Resize image and transform tensor\n",
    "transform = transforms.Compose([\n",
    "  transforms.Resize(224),\n",
    "  transforms.PILToTensor()\n",
    "])\n",
    "\n",
    "# Apply transform to image\n",
    "image_tensor = transform(image)\n",
    "print(image_tensor)"
   ]
  }
 ],
 "metadata": {
  "kernelspec": {
   "display_name": "Python 3",
   "language": "python",
   "name": "python3"
  },
  "language_info": {
   "name": "python",
   "version": "3.10.13"
  }
 },
 "nbformat": 4,
 "nbformat_minor": 2
}
